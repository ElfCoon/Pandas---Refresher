{
 "cells": [
  {
   "cell_type": "markdown",
   "metadata": {},
   "source": [
    "##### DataFrames "
   ]
  },
  {
   "cell_type": "markdown",
   "metadata": {},
   "source": [
    "##### Introduction to DataFrames in Pandas\n",
    "\n",
    ">> Components of a Dataframe - They are Three Components\n",
    " - **.values**  -  is a way to access the underlying data of a DataFrame or Series as a NumPy array.\n",
    "\n",
    "    When you have a DataFrame data, data.values returns a two-dimensional NumPy array representing the values in the DataFrame. Each row corresponds to a row in the DataFrame, and each column corresponds to a column in the DataFrame.\n",
    "\n",
    "    Similarly, when you have a Series data, data.values returns a one-dimensional NumPy array representing the values in the Series.\n",
    "\n",
    "    Accessing the values directly as a NumPy array can be useful when you want to perform numerical operations or use NumPy's functions on the data without considering the index or column labels of the DataFrame or Series.\n",
    "\n",
    "- **.columns**  - refers to an attribute that returns the column labels of a DataFrame. When you have a DataFrame data, data.columns will return an Index       object    containing the column labels.\n",
    "\n",
    "    This attribute is particularly useful when you want to access, iterate over, or manipulate the column labels programmatically. You can access individual columns by indexing data with the column label or use methods like .loc[] or .iloc[] to access specific rows and columns based on their labels or positions.\n",
    "\n",
    "- **.index**    - refers to an attribute that provides access to the index labels of a DataFrame or Series. When you have a DataFrame data, data.index returns an Index object containing the index labels.\n",
    "\n",
    "    The index labels represent the labels assigned to each row of the DataFrame. They can be integer-based, datetime-based, or even string-based, depending on how the DataFrame was created or manipulated.\n",
    "\n",
    "    You can use data.index to access, iterate over, or manipulate the index labels programmatically. For example, you can access specific rows using .loc[] or .iloc[] methods based on their index labels or positions."
   ]
  },
  {
   "cell_type": "markdown",
   "metadata": {},
   "source": [
    "#### Dataset Source\n",
    "https://www.kaggle.com/datasets/kartik2112/fraud-detection"
   ]
  },
  {
   "cell_type": "code",
   "execution_count": 17,
   "metadata": {},
   "outputs": [],
   "source": [
    "import pandas as pd"
   ]
  },
  {
   "cell_type": "markdown",
   "metadata": {},
   "source": [
    "##### Loading the dataset and trying to do some exploration"
   ]
  },
  {
   "cell_type": "code",
   "execution_count": 18,
   "metadata": {},
   "outputs": [
    {
     "data": {
      "text/html": [
       "<div>\n",
       "<style scoped>\n",
       "    .dataframe tbody tr th:only-of-type {\n",
       "        vertical-align: middle;\n",
       "    }\n",
       "\n",
       "    .dataframe tbody tr th {\n",
       "        vertical-align: top;\n",
       "    }\n",
       "\n",
       "    .dataframe thead th {\n",
       "        text-align: right;\n",
       "    }\n",
       "</style>\n",
       "<table border=\"1\" class=\"dataframe\">\n",
       "  <thead>\n",
       "    <tr style=\"text-align: right;\">\n",
       "      <th></th>\n",
       "      <th>Unnamed: 0</th>\n",
       "      <th>trans_date_trans_time</th>\n",
       "      <th>cc_num</th>\n",
       "      <th>merchant</th>\n",
       "      <th>category</th>\n",
       "      <th>amt</th>\n",
       "      <th>first</th>\n",
       "      <th>last</th>\n",
       "      <th>gender</th>\n",
       "      <th>street</th>\n",
       "      <th>...</th>\n",
       "      <th>lat</th>\n",
       "      <th>long</th>\n",
       "      <th>city_pop</th>\n",
       "      <th>job</th>\n",
       "      <th>dob</th>\n",
       "      <th>trans_num</th>\n",
       "      <th>unix_time</th>\n",
       "      <th>merch_lat</th>\n",
       "      <th>merch_long</th>\n",
       "      <th>is_fraud</th>\n",
       "    </tr>\n",
       "  </thead>\n",
       "  <tbody>\n",
       "    <tr>\n",
       "      <th>0</th>\n",
       "      <td>0</td>\n",
       "      <td>2020-06-21 12:14:25</td>\n",
       "      <td>2291163933867244</td>\n",
       "      <td>fraud_Kirlin and Sons</td>\n",
       "      <td>personal_care</td>\n",
       "      <td>2.86</td>\n",
       "      <td>Jeff</td>\n",
       "      <td>Elliott</td>\n",
       "      <td>M</td>\n",
       "      <td>351 Darlene Green</td>\n",
       "      <td>...</td>\n",
       "      <td>33.9659</td>\n",
       "      <td>-80.9355</td>\n",
       "      <td>333497</td>\n",
       "      <td>Mechanical engineer</td>\n",
       "      <td>1968-03-19</td>\n",
       "      <td>2da90c7d74bd46a0caf3777415b3ebd3</td>\n",
       "      <td>1371816865</td>\n",
       "      <td>33.986391</td>\n",
       "      <td>-81.200714</td>\n",
       "      <td>0</td>\n",
       "    </tr>\n",
       "    <tr>\n",
       "      <th>1</th>\n",
       "      <td>1</td>\n",
       "      <td>2020-06-21 12:14:33</td>\n",
       "      <td>3573030041201292</td>\n",
       "      <td>fraud_Sporer-Keebler</td>\n",
       "      <td>personal_care</td>\n",
       "      <td>29.84</td>\n",
       "      <td>Joanne</td>\n",
       "      <td>Williams</td>\n",
       "      <td>F</td>\n",
       "      <td>3638 Marsh Union</td>\n",
       "      <td>...</td>\n",
       "      <td>40.3207</td>\n",
       "      <td>-110.4360</td>\n",
       "      <td>302</td>\n",
       "      <td>Sales professional, IT</td>\n",
       "      <td>1990-01-17</td>\n",
       "      <td>324cc204407e99f51b0d6ca0055005e7</td>\n",
       "      <td>1371816873</td>\n",
       "      <td>39.450498</td>\n",
       "      <td>-109.960431</td>\n",
       "      <td>0</td>\n",
       "    </tr>\n",
       "    <tr>\n",
       "      <th>2</th>\n",
       "      <td>2</td>\n",
       "      <td>2020-06-21 12:14:53</td>\n",
       "      <td>3598215285024754</td>\n",
       "      <td>fraud_Swaniawski, Nitzsche and Welch</td>\n",
       "      <td>health_fitness</td>\n",
       "      <td>41.28</td>\n",
       "      <td>Ashley</td>\n",
       "      <td>Lopez</td>\n",
       "      <td>F</td>\n",
       "      <td>9333 Valentine Point</td>\n",
       "      <td>...</td>\n",
       "      <td>40.6729</td>\n",
       "      <td>-73.5365</td>\n",
       "      <td>34496</td>\n",
       "      <td>Librarian, public</td>\n",
       "      <td>1970-10-21</td>\n",
       "      <td>c81755dbbbea9d5c77f094348a7579be</td>\n",
       "      <td>1371816893</td>\n",
       "      <td>40.495810</td>\n",
       "      <td>-74.196111</td>\n",
       "      <td>0</td>\n",
       "    </tr>\n",
       "  </tbody>\n",
       "</table>\n",
       "<p>3 rows × 23 columns</p>\n",
       "</div>"
      ],
      "text/plain": [
       "   Unnamed: 0 trans_date_trans_time            cc_num  \\\n",
       "0           0   2020-06-21 12:14:25  2291163933867244   \n",
       "1           1   2020-06-21 12:14:33  3573030041201292   \n",
       "2           2   2020-06-21 12:14:53  3598215285024754   \n",
       "\n",
       "                               merchant        category    amt   first  \\\n",
       "0                 fraud_Kirlin and Sons   personal_care   2.86    Jeff   \n",
       "1                  fraud_Sporer-Keebler   personal_care  29.84  Joanne   \n",
       "2  fraud_Swaniawski, Nitzsche and Welch  health_fitness  41.28  Ashley   \n",
       "\n",
       "       last gender                street  ...      lat      long  city_pop  \\\n",
       "0   Elliott      M     351 Darlene Green  ...  33.9659  -80.9355    333497   \n",
       "1  Williams      F      3638 Marsh Union  ...  40.3207 -110.4360       302   \n",
       "2     Lopez      F  9333 Valentine Point  ...  40.6729  -73.5365     34496   \n",
       "\n",
       "                      job         dob                         trans_num  \\\n",
       "0     Mechanical engineer  1968-03-19  2da90c7d74bd46a0caf3777415b3ebd3   \n",
       "1  Sales professional, IT  1990-01-17  324cc204407e99f51b0d6ca0055005e7   \n",
       "2       Librarian, public  1970-10-21  c81755dbbbea9d5c77f094348a7579be   \n",
       "\n",
       "    unix_time  merch_lat  merch_long  is_fraud  \n",
       "0  1371816865  33.986391  -81.200714         0  \n",
       "1  1371816873  39.450498 -109.960431         0  \n",
       "2  1371816893  40.495810  -74.196111         0  \n",
       "\n",
       "[3 rows x 23 columns]"
      ]
     },
     "execution_count": 18,
     "metadata": {},
     "output_type": "execute_result"
    }
   ],
   "source": [
    "data = pd.read_csv('/home/nacre/Python/Pandas/datasets/fraudTest.csv')\n",
    "\n",
    "# Print the head of the dataset to see how data is distributed\n",
    "# Excpected out is the first 3 rows from index 0 to index 2\n",
    "\n",
    "data.head(3)"
   ]
  },
  {
   "cell_type": "markdown",
   "metadata": {},
   "source": [
    "#### Inspecting the DataFrame further"
   ]
  },
  {
   "cell_type": "code",
   "execution_count": 19,
   "metadata": {},
   "outputs": [
    {
     "data": {
      "text/html": [
       "<div>\n",
       "<style scoped>\n",
       "    .dataframe tbody tr th:only-of-type {\n",
       "        vertical-align: middle;\n",
       "    }\n",
       "\n",
       "    .dataframe tbody tr th {\n",
       "        vertical-align: top;\n",
       "    }\n",
       "\n",
       "    .dataframe thead th {\n",
       "        text-align: right;\n",
       "    }\n",
       "</style>\n",
       "<table border=\"1\" class=\"dataframe\">\n",
       "  <thead>\n",
       "    <tr style=\"text-align: right;\">\n",
       "      <th></th>\n",
       "      <th>Unnamed: 0</th>\n",
       "      <th>trans_date_trans_time</th>\n",
       "      <th>cc_num</th>\n",
       "      <th>merchant</th>\n",
       "      <th>category</th>\n",
       "      <th>amt</th>\n",
       "      <th>first</th>\n",
       "      <th>last</th>\n",
       "      <th>gender</th>\n",
       "      <th>street</th>\n",
       "      <th>...</th>\n",
       "      <th>lat</th>\n",
       "      <th>long</th>\n",
       "      <th>city_pop</th>\n",
       "      <th>job</th>\n",
       "      <th>dob</th>\n",
       "      <th>trans_num</th>\n",
       "      <th>unix_time</th>\n",
       "      <th>merch_lat</th>\n",
       "      <th>merch_long</th>\n",
       "      <th>is_fraud</th>\n",
       "    </tr>\n",
       "  </thead>\n",
       "  <tbody>\n",
       "    <tr>\n",
       "      <th>555716</th>\n",
       "      <td>555716</td>\n",
       "      <td>2020-12-31 23:59:15</td>\n",
       "      <td>6011724471098086</td>\n",
       "      <td>fraud_Rau-Robel</td>\n",
       "      <td>kids_pets</td>\n",
       "      <td>86.88</td>\n",
       "      <td>Ann</td>\n",
       "      <td>Lawson</td>\n",
       "      <td>F</td>\n",
       "      <td>144 Evans Islands Apt. 683</td>\n",
       "      <td>...</td>\n",
       "      <td>46.1966</td>\n",
       "      <td>-118.9017</td>\n",
       "      <td>3684</td>\n",
       "      <td>Musician</td>\n",
       "      <td>1981-11-29</td>\n",
       "      <td>6c5b7c8add471975aa0fec023b2e8408</td>\n",
       "      <td>1388534355</td>\n",
       "      <td>46.658340</td>\n",
       "      <td>-119.715054</td>\n",
       "      <td>0</td>\n",
       "    </tr>\n",
       "    <tr>\n",
       "      <th>555717</th>\n",
       "      <td>555717</td>\n",
       "      <td>2020-12-31 23:59:24</td>\n",
       "      <td>4079773899158</td>\n",
       "      <td>fraud_Breitenberg LLC</td>\n",
       "      <td>travel</td>\n",
       "      <td>7.99</td>\n",
       "      <td>Eric</td>\n",
       "      <td>Preston</td>\n",
       "      <td>M</td>\n",
       "      <td>7020 Doyle Stream Apt. 951</td>\n",
       "      <td>...</td>\n",
       "      <td>44.6255</td>\n",
       "      <td>-116.4493</td>\n",
       "      <td>129</td>\n",
       "      <td>Cartographer</td>\n",
       "      <td>1965-12-15</td>\n",
       "      <td>14392d723bb7737606b2700ac791b7aa</td>\n",
       "      <td>1388534364</td>\n",
       "      <td>44.470525</td>\n",
       "      <td>-117.080888</td>\n",
       "      <td>0</td>\n",
       "    </tr>\n",
       "    <tr>\n",
       "      <th>555718</th>\n",
       "      <td>555718</td>\n",
       "      <td>2020-12-31 23:59:34</td>\n",
       "      <td>4170689372027579</td>\n",
       "      <td>fraud_Dare-Marvin</td>\n",
       "      <td>entertainment</td>\n",
       "      <td>38.13</td>\n",
       "      <td>Samuel</td>\n",
       "      <td>Frey</td>\n",
       "      <td>M</td>\n",
       "      <td>830 Myers Plaza Apt. 384</td>\n",
       "      <td>...</td>\n",
       "      <td>35.6665</td>\n",
       "      <td>-97.4798</td>\n",
       "      <td>116001</td>\n",
       "      <td>Media buyer</td>\n",
       "      <td>1993-05-10</td>\n",
       "      <td>1765bb45b3aa3224b4cdcb6e7a96cee3</td>\n",
       "      <td>1388534374</td>\n",
       "      <td>36.210097</td>\n",
       "      <td>-97.036372</td>\n",
       "      <td>0</td>\n",
       "    </tr>\n",
       "  </tbody>\n",
       "</table>\n",
       "<p>3 rows × 23 columns</p>\n",
       "</div>"
      ],
      "text/plain": [
       "        Unnamed: 0 trans_date_trans_time            cc_num  \\\n",
       "555716      555716   2020-12-31 23:59:15  6011724471098086   \n",
       "555717      555717   2020-12-31 23:59:24     4079773899158   \n",
       "555718      555718   2020-12-31 23:59:34  4170689372027579   \n",
       "\n",
       "                     merchant       category    amt   first     last gender  \\\n",
       "555716        fraud_Rau-Robel      kids_pets  86.88     Ann   Lawson      F   \n",
       "555717  fraud_Breitenberg LLC         travel   7.99    Eric  Preston      M   \n",
       "555718      fraud_Dare-Marvin  entertainment  38.13  Samuel     Frey      M   \n",
       "\n",
       "                            street  ...      lat      long  city_pop  \\\n",
       "555716  144 Evans Islands Apt. 683  ...  46.1966 -118.9017      3684   \n",
       "555717  7020 Doyle Stream Apt. 951  ...  44.6255 -116.4493       129   \n",
       "555718    830 Myers Plaza Apt. 384  ...  35.6665  -97.4798    116001   \n",
       "\n",
       "                 job         dob                         trans_num  \\\n",
       "555716      Musician  1981-11-29  6c5b7c8add471975aa0fec023b2e8408   \n",
       "555717  Cartographer  1965-12-15  14392d723bb7737606b2700ac791b7aa   \n",
       "555718   Media buyer  1993-05-10  1765bb45b3aa3224b4cdcb6e7a96cee3   \n",
       "\n",
       "         unix_time  merch_lat  merch_long  is_fraud  \n",
       "555716  1388534355  46.658340 -119.715054         0  \n",
       "555717  1388534364  44.470525 -117.080888         0  \n",
       "555718  1388534374  36.210097  -97.036372         0  \n",
       "\n",
       "[3 rows x 23 columns]"
      ]
     },
     "execution_count": 19,
     "metadata": {},
     "output_type": "execute_result"
    }
   ],
   "source": [
    "# Inspecting the last three rows of the dataset\n",
    "data.tail(3)"
   ]
  },
  {
   "cell_type": "code",
   "execution_count": 20,
   "metadata": {},
   "outputs": [
    {
     "name": "stdout",
     "output_type": "stream",
     "text": [
      "Check for Missing values and the Datatypes \n",
      " \n",
      "\n",
      "<class 'pandas.core.frame.DataFrame'>\n",
      "RangeIndex: 555719 entries, 0 to 555718\n",
      "Data columns (total 23 columns):\n",
      " #   Column                 Non-Null Count   Dtype  \n",
      "---  ------                 --------------   -----  \n",
      " 0   Unnamed: 0             555719 non-null  int64  \n",
      " 1   trans_date_trans_time  555719 non-null  object \n",
      " 2   cc_num                 555719 non-null  int64  \n",
      " 3   merchant               555719 non-null  object \n",
      " 4   category               555719 non-null  object \n",
      " 5   amt                    555719 non-null  float64\n",
      " 6   first                  555719 non-null  object \n",
      " 7   last                   555719 non-null  object \n",
      " 8   gender                 555719 non-null  object \n",
      " 9   street                 555719 non-null  object \n",
      " 10  city                   555719 non-null  object \n",
      " 11  state                  555719 non-null  object \n",
      " 12  zip                    555719 non-null  int64  \n",
      " 13  lat                    555719 non-null  float64\n",
      " 14  long                   555719 non-null  float64\n",
      " 15  city_pop               555719 non-null  int64  \n",
      " 16  job                    555719 non-null  object \n",
      " 17  dob                    555719 non-null  object \n",
      " 18  trans_num              555719 non-null  object \n",
      " 19  unix_time              555719 non-null  int64  \n",
      " 20  merch_lat              555719 non-null  float64\n",
      " 21  merch_long             555719 non-null  float64\n",
      " 22  is_fraud               555719 non-null  int64  \n",
      "dtypes: float64(5), int64(6), object(12)\n",
      "memory usage: 97.5+ MB\n"
     ]
    }
   ],
   "source": [
    "# Check the datatypes and if we have any missing values\n",
    "# Expected output is that there is no missing values from the dataset as it was randomly generated\n",
    "print(\"Check for Missing values and the Datatypes \\n \\n\")\n",
    "data.info()"
   ]
  },
  {
   "cell_type": "code",
   "execution_count": 21,
   "metadata": {},
   "outputs": [
    {
     "name": "stdout",
     "output_type": "stream",
     "text": [
      "The dataset has the following number of rows and columns respectively\n"
     ]
    },
    {
     "data": {
      "text/plain": [
       "(555719, 23)"
      ]
     },
     "execution_count": 21,
     "metadata": {},
     "output_type": "execute_result"
    }
   ],
   "source": [
    "print(\"The dataset has the following number of rows and columns respectively\")\n",
    "data.shape"
   ]
  },
  {
   "cell_type": "code",
   "execution_count": 22,
   "metadata": {},
   "outputs": [
    {
     "name": "stdout",
     "output_type": "stream",
     "text": [
      "Below id the summary Statistics\n",
      " \n",
      "                count          mean           std           min           25%  \\\n",
      "Unnamed: 0  555719.0  2.778590e+05  1.604224e+05  0.000000e+00  1.389295e+05   \n",
      "cc_num      555719.0  4.178387e+17  1.309837e+18  6.041621e+10  1.800429e+14   \n",
      "amt         555719.0  6.939281e+01  1.567459e+02  1.000000e+00  9.630000e+00   \n",
      "zip         555719.0  4.884263e+04  2.685528e+04  1.257000e+03  2.629200e+04   \n",
      "lat         555719.0  3.854325e+01  5.061336e+00  2.002710e+01  3.466890e+01   \n",
      "long        555719.0 -9.023133e+01  1.372178e+01 -1.656723e+02 -9.679800e+01   \n",
      "city_pop    555719.0  8.822189e+04  3.003909e+05  2.300000e+01  7.410000e+02   \n",
      "unix_time   555719.0  1.380679e+09  5.201104e+06  1.371817e+09  1.376029e+09   \n",
      "merch_lat   555719.0  3.854280e+01  5.095829e+00  1.902742e+01  3.475530e+01   \n",
      "merch_long  555719.0 -9.023138e+01  1.373307e+01 -1.666716e+02 -9.690513e+01   \n",
      "is_fraud    555719.0  3.859864e-03  6.200784e-02  0.000000e+00  0.000000e+00   \n",
      "\n",
      "                     50%           75%           max  \n",
      "Unnamed: 0  2.778590e+05  4.167885e+05  5.557180e+05  \n",
      "cc_num      3.521417e+15  4.635331e+15  4.992346e+18  \n",
      "amt         4.729000e+01  8.301000e+01  2.276811e+04  \n",
      "zip         4.817400e+04  7.201100e+04  9.992100e+04  \n",
      "lat         3.937160e+01  4.189480e+01  6.568990e+01  \n",
      "long       -8.747690e+01 -8.017520e+01 -6.795030e+01  \n",
      "city_pop    2.408000e+03  1.968500e+04  2.906700e+06  \n",
      "unix_time   1.380762e+09  1.385867e+09  1.388534e+09  \n",
      "merch_lat   3.937659e+01  4.195416e+01  6.667930e+01  \n",
      "merch_long -8.744520e+01 -8.026464e+01 -6.695203e+01  \n",
      "is_fraud    0.000000e+00  0.000000e+00  1.000000e+00  \n"
     ]
    }
   ],
   "source": [
    "print(\"Below id the summary Statistics\\n \\n\",  data.describe().T)"
   ]
  },
  {
   "cell_type": "code",
   "execution_count": 23,
   "metadata": {},
   "outputs": [],
   "source": [
    "#### Exploring the different parts of the DataFrame"
   ]
  },
  {
   "cell_type": "code",
   "execution_count": 24,
   "metadata": {},
   "outputs": [
    {
     "data": {
      "text/plain": [
       "array([[0, '2020-06-21 12:14:25', 2291163933867244, ..., 33.986391,\n",
       "        -81.200714, 0],\n",
       "       [1, '2020-06-21 12:14:33', 3573030041201292, ..., 39.450498,\n",
       "        -109.960431, 0],\n",
       "       [2, '2020-06-21 12:14:53', 3598215285024754, ..., 40.49581,\n",
       "        -74.196111, 0],\n",
       "       ...,\n",
       "       [555716, '2020-12-31 23:59:15', 6011724471098086, ..., 46.65834,\n",
       "        -119.715054, 0],\n",
       "       [555717, '2020-12-31 23:59:24', 4079773899158, ..., 44.470525,\n",
       "        -117.080888, 0],\n",
       "       [555718, '2020-12-31 23:59:34', 4170689372027579, ..., 36.210097,\n",
       "        -97.036372, 0]], dtype=object)"
      ]
     },
     "execution_count": 24,
     "metadata": {},
     "output_type": "execute_result"
    }
   ],
   "source": [
    "# Values attribute of the dataFrame\n",
    "data.values"
   ]
  },
  {
   "cell_type": "code",
   "execution_count": 25,
   "metadata": {},
   "outputs": [
    {
     "data": {
      "text/plain": [
       "Index(['Unnamed: 0', 'trans_date_trans_time', 'cc_num', 'merchant', 'category',\n",
       "       'amt', 'first', 'last', 'gender', 'street', 'city', 'state', 'zip',\n",
       "       'lat', 'long', 'city_pop', 'job', 'dob', 'trans_num', 'unix_time',\n",
       "       'merch_lat', 'merch_long', 'is_fraud'],\n",
       "      dtype='object')"
      ]
     },
     "execution_count": 25,
     "metadata": {},
     "output_type": "execute_result"
    }
   ],
   "source": [
    "# Columns Check \n",
    "# Expected output is the colum headers that we have in the dataset\n",
    "data.columns"
   ]
  },
  {
   "cell_type": "markdown",
   "metadata": {},
   "source": [
    "- Provides an intuitive way of checking out the dataset at a glance"
   ]
  },
  {
   "cell_type": "code",
   "execution_count": 26,
   "metadata": {},
   "outputs": [
    {
     "name": "stdout",
     "output_type": "stream",
     "text": [
      "The number of rows in the dataset are in the: \n",
      " \n",
      " RangeIndex(start=0, stop=555719, step=1)\n"
     ]
    }
   ],
   "source": [
    "#Expected Output is the total number of the rows in  the dataset\n",
    "print(\"The number of rows in the dataset are in the: \\n \\n\",data.index)"
   ]
  },
  {
   "cell_type": "markdown",
   "metadata": {},
   "source": [
    "#### Sorting and Subsetting\n",
    "\n",
    "- **Sorting**\n",
    "\n",
    "Sorting involves arranging the data in either a DataFrame or a Series based on one or more columns or indices. This is particularly useful for organizing the data in ascending or descending order, making it easier to identify patterns or find specific values.\n",
    "\n",
    "In Pandas, you can sort data using the **sort_values()** method for DataFrame or Series objects. This method allows you to specify one or more columns by which the data should be sorted. Additionally, you can control the sorting order (ascending or descending) using the ascending parameter.\n",
    "\n",
    "- **Subsetting**\n",
    "\n",
    "Subsetting involves selecting a subset of rows or columns from a DataFrame based on certain criteria. This allows you to focus on specific parts of the data that are relevant to your analysis or task.\n",
    "\n",
    "In Pandas, you can subset data using various methods:\n",
    "\n",
    "-  Selection by label: You can use **.loc[]** to select rows or columns by their labels.\n",
    "-  Selection by position: You can use **.iloc[]** to select rows or columns by their positions (integer indices).\n",
    "-  Boolean indexing: You can use boolean expressions to filter rows based on certain conditions.\n",
    "\n",
    "\n"
   ]
  },
  {
   "cell_type": "markdown",
   "metadata": {},
   "source": [
    "#### Sorting"
   ]
  },
  {
   "cell_type": "code",
   "execution_count": 27,
   "metadata": {},
   "outputs": [
    {
     "name": "stdout",
     "output_type": "stream",
     "text": [
      "        Unnamed: 0 trans_date_trans_time           cc_num  \\\n",
      "273050      273050   2020-09-30 07:18:02  180020605265701   \n",
      "273950      273950   2020-09-30 20:41:56  180020605265701   \n",
      "274054      274054   2020-09-30 22:10:03  180020605265701   \n",
      "274086      274086   2020-09-30 22:34:21  180020605265701   \n",
      "274143      274143   2020-09-30 23:17:10  180020605265701   \n",
      "\n",
      "                                 merchant       category      amt first  \\\n",
      "273050      fraud_Reilly, Heaney and Cole  gas_transport    11.50  John   \n",
      "273950                    fraud_Price Inc   shopping_net  1017.05  John   \n",
      "274054    fraud_Labadie, Treutel and Bode   shopping_net   943.12  John   \n",
      "274086                   fraud_Rempel Inc   shopping_net   752.02  John   \n",
      "274143  fraud_Larson, Quitzon and Spencer         travel    10.03  John   \n",
      "\n",
      "         last gender              street  ...      lat     long  city_pop  \\\n",
      "273050  Lewis      M  7908 Derrick Mount  ...  39.8616 -97.1825       314   \n",
      "273950  Lewis      M  7908 Derrick Mount  ...  39.8616 -97.1825       314   \n",
      "274054  Lewis      M  7908 Derrick Mount  ...  39.8616 -97.1825       314   \n",
      "274086  Lewis      M  7908 Derrick Mount  ...  39.8616 -97.1825       314   \n",
      "274143  Lewis      M  7908 Derrick Mount  ...  39.8616 -97.1825       314   \n",
      "\n",
      "                      job         dob                         trans_num  \\\n",
      "273050  Chemical engineer  2002-03-17  d417f917b6d0cef4b3d5d1e0407c367f   \n",
      "273950  Chemical engineer  2002-03-17  6e6d5617e7cb77a58e4dbce0b87f4096   \n",
      "274054  Chemical engineer  2002-03-17  b0a4a0e2b3a7dcd47c3cb2cc1374d3a9   \n",
      "274086  Chemical engineer  2002-03-17  b48acde1adcaf252d5181e7204a3dc5f   \n",
      "274143  Chemical engineer  2002-03-17  58b9f844a3f8d70e39fc2ef709671460   \n",
      "\n",
      "         unix_time  merch_lat merch_long  is_fraud  \n",
      "273050  1380525482  40.612081 -97.017175         1  \n",
      "273950  1380573716  39.610904 -97.718659         1  \n",
      "274054  1380579003  39.237628 -97.445436         1  \n",
      "274086  1380580461  40.201316 -97.259232         1  \n",
      "274143  1380583030  39.985120 -96.408480         1  \n",
      "\n",
      "[5 rows x 23 columns]\n"
     ]
    }
   ],
   "source": [
    "# Perform sorting of the dataset by is_fraud followed by the dob\n",
    "# Follow up - Create a plot that shows the relationship between the date of birth and fraudulent activities\n",
    "\n",
    "# Since the dataset id huge we can only check at the first five records\n",
    "\n",
    "fraud_by_age = data.sort_values([\"is_fraud\", \"dob\"], ascending=False)\n",
    "\n",
    "print(fraud_by_age.head())"
   ]
  },
  {
   "cell_type": "code",
   "execution_count": 28,
   "metadata": {},
   "outputs": [
    {
     "name": "stdout",
     "output_type": "stream",
     "text": [
      "      Unnamed: 0 trans_date_trans_time          cc_num  \\\n",
      "610          610   2020-06-21 15:40:05  36485887555770   \n",
      "643          643   2020-06-21 15:49:29  36485887555770   \n",
      "1033        1033   2020-06-21 18:02:40  36485887555770   \n",
      "1166        1166   2020-06-21 18:53:46  36485887555770   \n",
      "3084        3084   2020-06-22 08:16:53  36485887555770   \n",
      "\n",
      "                                 merchant        category     amt    first  \\\n",
      "610    fraud_Turcotte, Batz and Buckridge  health_fitness    2.30  Michael   \n",
      "643                   fraud_Dickinson Ltd        misc_pos   30.91  Michael   \n",
      "1033    fraud_Turcotte, McKenzie and Koss   entertainment   72.70  Michael   \n",
      "1166                  fraud_Dickinson Ltd        misc_pos  163.09  Michael   \n",
      "3084  fraud_Greenholt, Jacobi and Gleason   gas_transport   53.97  Michael   \n",
      "\n",
      "       last gender                    street  ...      lat     long  city_pop  \\\n",
      "610   Gross      M  230 Ryan Tunnel Apt. 025  ...  40.4971 -82.8342       267   \n",
      "643   Gross      M  230 Ryan Tunnel Apt. 025  ...  40.4971 -82.8342       267   \n",
      "1033  Gross      M  230 Ryan Tunnel Apt. 025  ...  40.4971 -82.8342       267   \n",
      "1166  Gross      M  230 Ryan Tunnel Apt. 025  ...  40.4971 -82.8342       267   \n",
      "3084  Gross      M  230 Ryan Tunnel Apt. 025  ...  40.4971 -82.8342       267   \n",
      "\n",
      "                     job         dob                         trans_num  \\\n",
      "610   Facilities manager  2005-01-29  26866e18e766431bd6dc764ef1b8f8b8   \n",
      "643   Facilities manager  2005-01-29  74d2489fd6e8bf8dc68c96647ae9d0ae   \n",
      "1033  Facilities manager  2005-01-29  bc64f9ce5982da969d626382f6d0fc1d   \n",
      "1166  Facilities manager  2005-01-29  2777d810500a485aa8f58a02f9ffc0e4   \n",
      "3084  Facilities manager  2005-01-29  0cef2e5cf2f0e66b8f5c85d6d150424c   \n",
      "\n",
      "       unix_time  merch_lat merch_long  is_fraud  \n",
      "610   1371829205  40.577047 -82.686392         0  \n",
      "643   1371829769  40.524978 -82.960812         0  \n",
      "1033  1371837760  40.383071 -82.147218         0  \n",
      "1166  1371840826  40.667587 -83.099997         0  \n",
      "3084  1371889013  40.325931 -82.798906         0  \n",
      "\n",
      "[5 rows x 23 columns]\n"
     ]
    }
   ],
   "source": [
    "# Sort by dob descending and is_fraud ascending\n",
    "# Purpose of sorting by two columns is in case we have values that are the same\n",
    "data_sorted = data.sort_values([\"is_fraud\",\"dob\"], ascending=[True, False])\n",
    "print(data_sorted.head())"
   ]
  },
  {
   "cell_type": "code",
   "execution_count": 29,
   "metadata": {},
   "outputs": [
    {
     "name": "stdout",
     "output_type": "stream",
     "text": [
      "        Unnamed: 0 trans_date_trans_time            cc_num  \\\n",
      "555718      555718   2020-12-31 23:59:34  4170689372027579   \n",
      "555717      555717   2020-12-31 23:59:24     4079773899158   \n",
      "555716      555716   2020-12-31 23:59:15  6011724471098086   \n",
      "\n",
      "                     merchant       category    amt   first     last gender  \\\n",
      "555718      fraud_Dare-Marvin  entertainment  38.13  Samuel     Frey      M   \n",
      "555717  fraud_Breitenberg LLC         travel   7.99    Eric  Preston      M   \n",
      "555716        fraud_Rau-Robel      kids_pets  86.88     Ann   Lawson      F   \n",
      "\n",
      "                            street  ...      lat      long  city_pop  \\\n",
      "555718    830 Myers Plaza Apt. 384  ...  35.6665  -97.4798    116001   \n",
      "555717  7020 Doyle Stream Apt. 951  ...  44.6255 -116.4493       129   \n",
      "555716  144 Evans Islands Apt. 683  ...  46.1966 -118.9017      3684   \n",
      "\n",
      "                 job         dob                         trans_num  \\\n",
      "555718   Media buyer  1993-05-10  1765bb45b3aa3224b4cdcb6e7a96cee3   \n",
      "555717  Cartographer  1965-12-15  14392d723bb7737606b2700ac791b7aa   \n",
      "555716      Musician  1981-11-29  6c5b7c8add471975aa0fec023b2e8408   \n",
      "\n",
      "         unix_time  merch_lat  merch_long  is_fraud  \n",
      "555718  1388534374  36.210097  -97.036372         0  \n",
      "555717  1388534364  44.470525 -117.080888         0  \n",
      "555716  1388534355  46.658340 -119.715054         0  \n",
      "\n",
      "[3 rows x 23 columns]\n"
     ]
    }
   ],
   "source": [
    "data_sort_column = data.sort_values([\"trans_date_trans_time\"],ascending=False)\n",
    "\n",
    "print(data_sort_column.head(3))"
   ]
  },
  {
   "cell_type": "markdown",
   "metadata": {},
   "source": [
    "##### Observation\n",
    "As you may have noticed, sorting might not always address the issue that you might to look at keenly, For instance when you only need to perform specific inspection to specific columns. This is attributed by the fact that after sorting the return contains all columns.\n",
    "\n",
    "In such cases, that's where **subsetting** comes in handy - Returns only the referenced columns."
   ]
  },
  {
   "cell_type": "markdown",
   "metadata": {},
   "source": [
    "#### Subsetting"
   ]
  }
 ],
 "metadata": {
  "kernelspec": {
   "display_name": "Python 3",
   "language": "python",
   "name": "python3"
  },
  "language_info": {
   "codemirror_mode": {
    "name": "ipython",
    "version": 3
   },
   "file_extension": ".py",
   "mimetype": "text/x-python",
   "name": "python",
   "nbconvert_exporter": "python",
   "pygments_lexer": "ipython3",
   "version": "3.12.3"
  }
 },
 "nbformat": 4,
 "nbformat_minor": 2
}
